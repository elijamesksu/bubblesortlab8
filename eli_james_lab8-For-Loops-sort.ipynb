{
 "cells": [
  {
   "cell_type": "markdown",
   "metadata": {},
   "source": [
    "## Bubble Sort Example\n",
    "Remember from our previous lectures that [bubble sort](https://en.wikipedia.org/wiki/Bubble_sort) is a simple sorting algorithm that compares each pair of elements in a sequence and swaps them if they are out of order.  This is repeated until no more swaps are made.  Complete the bubble sorting algorithm using the code below to sort the list of numbers.  Your code should be fully documented. \n",
    "\n",
    "Your bubble sort algorithm should be a function called **bubble_sort** which takes a parameter called  **numbers** which is the list of numbers you need to sort.  This function should return the list after it has been sorted. Lastly, call your function and print the results. Your algorithm must make use of one while loop and one for loop."
   ]
  },
  {
   "cell_type": "code",
   "execution_count": 9,
   "metadata": {},
   "outputs": [
    {
     "name": "stdout",
     "output_type": "stream",
     "text": [
      "[68, 10, 62, 49, 96, 34, 50, 29, 13, 33]\n",
      "[10, 13, 29, 33, 34, 49, 50, 62, 68, 96]\n"
     ]
    }
   ],
   "source": [
    "import random\n",
    "\n",
    "# make a random list of 10 numbers\n",
    "numbers_list = [random.randint(0,100) for i in range(10)]\n",
    "print(numbers_list)\n",
    "\n",
    "def bubble_sort(numbers):\n",
    "    for r in range(len(numbers)):\n",
    "        for n in range(len(numbers)-1):\n",
    "            if numbers[n] > numbers[n + 1]:\n",
    "                numbers[n], numbers[n + 1] = numbers [n + 1], numbers [n]\n",
    "    return numbers \n",
    "print(bubble_sort(numbers_list))\n",
    "\n"
   ]
  },
  {
   "cell_type": "code",
   "execution_count": null,
   "metadata": {},
   "outputs": [],
   "source": []
  },
  {
   "cell_type": "code",
   "execution_count": null,
   "metadata": {},
   "outputs": [],
   "source": []
  }
 ],
 "metadata": {
  "kernelspec": {
   "display_name": "Python 3 (ipykernel)",
   "language": "python",
   "name": "python3"
  },
  "language_info": {
   "codemirror_mode": {
    "name": "ipython",
    "version": 3
   },
   "file_extension": ".py",
   "mimetype": "text/x-python",
   "name": "python",
   "nbconvert_exporter": "python",
   "pygments_lexer": "ipython3",
   "version": "3.10.6"
  }
 },
 "nbformat": 4,
 "nbformat_minor": 4
}
